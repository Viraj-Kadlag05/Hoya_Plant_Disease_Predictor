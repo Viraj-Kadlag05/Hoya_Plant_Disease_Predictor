{
  "nbformat": 4,
  "nbformat_minor": 0,
  "metadata": {
    "colab": {
      "name": "ML model for Plant Disease Predictor.ipynb",
      "provenance": [],
      "collapsed_sections": [],
      "authorship_tag": "ABX9TyOS8ewJqo/WDao1Bro3j51w",
      "include_colab_link": true
    },
    "kernelspec": {
      "name": "python3",
      "display_name": "Python 3"
    },
    "accelerator": "GPU"
  },
  "cells": [
    {
      "cell_type": "markdown",
      "metadata": {
        "id": "view-in-github",
        "colab_type": "text"
      },
      "source": [
        "<a href=\"https://colab.research.google.com/github/Viraj-Kadlag05/Hoya_Plant_Disease_Predictor/blob/main/ML_model_for_Plant_Disease_Predictor.ipynb\" target=\"_parent\"><img src=\"https://colab.research.google.com/assets/colab-badge.svg\" alt=\"Open In Colab\"/></a>"
      ]
    },
    {
      "cell_type": "code",
      "metadata": {
        "colab": {
          "base_uri": "https://localhost:8080/"
        },
        "id": "KzAFIgiVFX54",
        "outputId": "f7c51d7e-6559-46a0-d895-abf54df0516d"
      },
      "source": [
        "from google.colab import drive\r\n",
        "drive.mount('/content/gdrive')"
      ],
      "execution_count": 2,
      "outputs": [
        {
          "output_type": "stream",
          "text": [
            "Mounted at /content/gdrive\n"
          ],
          "name": "stdout"
        }
      ]
    },
    {
      "cell_type": "code",
      "metadata": {
        "colab": {
          "base_uri": "https://localhost:8080/"
        },
        "id": "YhgoKDQEFkNy",
        "outputId": "c827aa24-0623-4d64-ca91-a0a49153c42a"
      },
      "source": [
        "!ls"
      ],
      "execution_count": 3,
      "outputs": [
        {
          "output_type": "stream",
          "text": [
            "gdrive\tsample_data\n"
          ],
          "name": "stdout"
        }
      ]
    },
    {
      "cell_type": "code",
      "metadata": {
        "id": "TWmItt37FkSV"
      },
      "source": [
        "import os\r\n",
        "os.environ['KAGGLE_CONFIG_DIR'] = \"/content/gdrive/My Drive/Kaggle\"\r\n",
        "# /content/gdrive/My Drive/Kaggle is the path where kaggle.json is present in the Google Drive"
      ],
      "execution_count": 4,
      "outputs": []
    },
    {
      "cell_type": "code",
      "metadata": {
        "colab": {
          "base_uri": "https://localhost:8080/",
          "height": 36
        },
        "id": "dSH-pjyNFkag",
        "outputId": "591cbe1a-3e96-4b59-8dae-d37e0f74c8f7"
      },
      "source": [
        "pwd"
      ],
      "execution_count": 5,
      "outputs": [
        {
          "output_type": "execute_result",
          "data": {
            "application/vnd.google.colaboratory.intrinsic+json": {
              "type": "string"
            },
            "text/plain": [
              "'/content'"
            ]
          },
          "metadata": {
            "tags": []
          },
          "execution_count": 5
        }
      ]
    },
    {
      "cell_type": "code",
      "metadata": {
        "colab": {
          "base_uri": "https://localhost:8080/"
        },
        "id": "hs81cV_nF5RU",
        "outputId": "75805aa6-fe3f-479a-d663-c9079b32d3f4"
      },
      "source": [
        "#changing the working directory\r\n",
        "%cd /content/gdrive/My Drive/Kaggle\r\n",
        "#Check the present working directory using pwd command"
      ],
      "execution_count": 6,
      "outputs": [
        {
          "output_type": "stream",
          "text": [
            "/content/gdrive/My Drive/Kaggle\n"
          ],
          "name": "stdout"
        }
      ]
    },
    {
      "cell_type": "code",
      "metadata": {
        "colab": {
          "base_uri": "https://localhost:8080/"
        },
        "id": "e3MZUGpmF7Rm",
        "outputId": "1c1fe405-566c-4ca8-8b59-c003ff837545"
      },
      "source": [
        "!ls"
      ],
      "execution_count": 7,
      "outputs": [
        {
          "output_type": "stream",
          "text": [
            " kaggle.json\t\t\t\t 'Plant Disease Dataset'\n",
            "'new plant diseases dataset(augmented)'   test\n",
            "'New Plant Diseases Dataset(Augmented)'\n"
          ],
          "name": "stdout"
        }
      ]
    },
    {
      "cell_type": "code",
      "metadata": {
        "id": "e3apZHydF9dQ"
      },
      "source": [
        "import numpy as np\r\n",
        "import matplotlib.pyplot as plt\r\n",
        "import tensorflow as tf\r\n",
        "from tensorflow import keras"
      ],
      "execution_count": 8,
      "outputs": []
    },
    {
      "cell_type": "code",
      "metadata": {
        "id": "8QCljwFKGA7c"
      },
      "source": [
        "image_size=224\r\n",
        "train_gen = keras.preprocessing.image.ImageDataGenerator()\r\n",
        "test_gen = keras.preprocessing.image.ImageDataGenerator()"
      ],
      "execution_count": 9,
      "outputs": []
    },
    {
      "cell_type": "code",
      "metadata": {
        "colab": {
          "base_uri": "https://localhost:8080/"
        },
        "id": "ssw4mClHGD0I",
        "outputId": "ceb21080-8ecd-4636-e6bc-b0d71c1cfa50"
      },
      "source": [
        "train_gen = train_gen.flow_from_directory(\"/content/gdrive/MyDrive/Kaggle/Plant Disease Dataset/Train\", target_size=(image_size,image_size), class_mode='categorical', batch_size=32, shuffle=True, seed=None, save_to_dir=None, save_prefix='', save_format='png', follow_links=False, subset=None, interpolation='nearest')"
      ],
      "execution_count": 10,
      "outputs": [
        {
          "output_type": "stream",
          "text": [
            "Found 4254 images belonging to 38 classes.\n"
          ],
          "name": "stdout"
        }
      ]
    },
    {
      "cell_type": "code",
      "metadata": {
        "colab": {
          "base_uri": "https://localhost:8080/"
        },
        "id": "iLhaFOKbGFrn",
        "outputId": "0eef2300-d0c2-4faa-a637-b3cd33440b9f"
      },
      "source": [
        "test_gen = test_gen.flow_from_directory(\"/content/gdrive/MyDrive/Kaggle/Plant Disease Dataset/Valid\", target_size=(image_size,image_size), class_mode='categorical', batch_size=32, shuffle=True, seed=None, save_to_dir=None, save_prefix='', save_format='png', follow_links=False, subset=None, interpolation='nearest')"
      ],
      "execution_count": 11,
      "outputs": [
        {
          "output_type": "stream",
          "text": [
            "Found 1170 images belonging to 38 classes.\n"
          ],
          "name": "stdout"
        }
      ]
    },
    {
      "cell_type": "code",
      "metadata": {
        "colab": {
          "base_uri": "https://localhost:8080/",
          "height": 36
        },
        "id": "BBet5qaGGH-H",
        "outputId": "24cc500f-a594-45a7-9d70-1ca48096096e"
      },
      "source": [
        "pwd"
      ],
      "execution_count": 12,
      "outputs": [
        {
          "output_type": "execute_result",
          "data": {
            "application/vnd.google.colaboratory.intrinsic+json": {
              "type": "string"
            },
            "text/plain": [
              "'/content/gdrive/MyDrive/Kaggle'"
            ]
          },
          "metadata": {
            "tags": []
          },
          "execution_count": 12
        }
      ]
    },
    {
      "cell_type": "code",
      "metadata": {
        "colab": {
          "base_uri": "https://localhost:8080/"
        },
        "id": "8ArTEBADGJ8w",
        "outputId": "1e34cff6-5d20-4baa-cd08-5926c8e95811"
      },
      "source": [
        "%cd /content/gdrive/MyDrive/Kaggle/Plant Disease Dataset/Train"
      ],
      "execution_count": 13,
      "outputs": [
        {
          "output_type": "stream",
          "text": [
            "/content/gdrive/MyDrive/Kaggle/Plant Disease Dataset/Train\n"
          ],
          "name": "stdout"
        }
      ]
    },
    {
      "cell_type": "code",
      "metadata": {
        "colab": {
          "base_uri": "https://localhost:8080/"
        },
        "id": "iMaIEHy7GMaR",
        "outputId": "02905868-377f-412f-9a85-d0fd7b19a699"
      },
      "source": [
        "!ls"
      ],
      "execution_count": 14,
      "outputs": [
        {
          "output_type": "stream",
          "text": [
            " Apple___Apple_scab\n",
            " Apple___Black_rot\n",
            " Apple___Cedar_apple_rust\n",
            " Apple___healthy\n",
            " Blueberry___healthy\n",
            "'Cherry_(including_sour)___healthy'\n",
            "'Cherry_(including_sour)___Powdery_mildew'\n",
            "'Corn_(maize)___Cercospora_leaf_spot Gray_leaf_spot'\n",
            "'Corn_(maize)___Common_rust'\n",
            "'Corn_(maize)___healthy'\n",
            "'Corn_(maize)___Northern_Leaf_Blight'\n",
            " Grape___Black_rot\n",
            "'Grape___Esca_(Black_Measles)'\n",
            " Grape___healthy\n",
            "'Grape___Leaf_blight_(Isariopsis_Leaf_Spot)'\n",
            "'Orange___Haunglongbing_(Citrus_greening)'\n",
            " Peach___Bacterial_spot\n",
            " Peach___healthy\n",
            " Pepper__bell___Bacterial_spot\n",
            " Pepper__bell___healthy\n",
            " Potato___Early_blight\n",
            " Potato___healthy\n",
            " Potato___Late_blight\n",
            " Raspberry___healthy\n",
            " Soybean___healthy\n",
            " Squash___Powdery_mildew\n",
            " Strawberry___healthy\n",
            " Strawberry___Leaf_scorch\n",
            " Tomato___Bacterial_spot\n",
            " Tomato___Early_blight\n",
            " Tomato___healthy\n",
            " Tomato___Late_blight\n",
            " Tomato___Leaf_Mold\n",
            " Tomato___Septoria_leaf_spot\n",
            "'Tomato___Spider_mites Two-spotted_spider_mite'\n",
            " Tomato___Target_Spot\n",
            " Tomato___Tomato_mosaic_virus\n",
            " Tomato___Tomato_Yellow_Leaf_Curl_Virus\n"
          ],
          "name": "stdout"
        }
      ]
    },
    {
      "cell_type": "code",
      "metadata": {
        "id": "N__EAS0bGOp5"
      },
      "source": [
        "Lables = train_gen.class_indices"
      ],
      "execution_count": 15,
      "outputs": []
    },
    {
      "cell_type": "code",
      "metadata": {
        "colab": {
          "base_uri": "https://localhost:8080/"
        },
        "id": "mGuuWliPGQ4P",
        "outputId": "6968f8a2-90a1-4c73-8d88-b640c610fcf1"
      },
      "source": [
        "train_gen.image_shape"
      ],
      "execution_count": 16,
      "outputs": [
        {
          "output_type": "execute_result",
          "data": {
            "text/plain": [
              "(224, 224, 3)"
            ]
          },
          "metadata": {
            "tags": []
          },
          "execution_count": 16
        }
      ]
    },
    {
      "cell_type": "code",
      "metadata": {
        "colab": {
          "base_uri": "https://localhost:8080/"
        },
        "id": "srO-BQ0RGSm0",
        "outputId": "f85a2db5-7266-4800-a47d-390a114b06f9"
      },
      "source": [
        "print(Lables)"
      ],
      "execution_count": 17,
      "outputs": [
        {
          "output_type": "stream",
          "text": [
            "{'Apple___Apple_scab': 0, 'Apple___Black_rot': 1, 'Apple___Cedar_apple_rust': 2, 'Apple___healthy': 3, 'Blueberry___healthy': 4, 'Cherry_(including_sour)___Powdery_mildew': 5, 'Cherry_(including_sour)___healthy': 6, 'Corn_(maize)___Cercospora_leaf_spot Gray_leaf_spot': 7, 'Corn_(maize)___Common_rust': 8, 'Corn_(maize)___Northern_Leaf_Blight': 9, 'Corn_(maize)___healthy': 10, 'Grape___Black_rot': 11, 'Grape___Esca_(Black_Measles)': 12, 'Grape___Leaf_blight_(Isariopsis_Leaf_Spot)': 13, 'Grape___healthy': 14, 'Orange___Haunglongbing_(Citrus_greening)': 15, 'Peach___Bacterial_spot': 16, 'Peach___healthy': 17, 'Pepper__bell___Bacterial_spot': 18, 'Pepper__bell___healthy': 19, 'Potato___Early_blight': 20, 'Potato___Late_blight': 21, 'Potato___healthy': 22, 'Raspberry___healthy': 23, 'Soybean___healthy': 24, 'Squash___Powdery_mildew': 25, 'Strawberry___Leaf_scorch': 26, 'Strawberry___healthy': 27, 'Tomato___Bacterial_spot': 28, 'Tomato___Early_blight': 29, 'Tomato___Late_blight': 30, 'Tomato___Leaf_Mold': 31, 'Tomato___Septoria_leaf_spot': 32, 'Tomato___Spider_mites Two-spotted_spider_mite': 33, 'Tomato___Target_Spot': 34, 'Tomato___Tomato_Yellow_Leaf_Curl_Virus': 35, 'Tomato___Tomato_mosaic_virus': 36, 'Tomato___healthy': 37}\n"
          ],
          "name": "stdout"
        }
      ]
    },
    {
      "cell_type": "code",
      "metadata": {
        "colab": {
          "base_uri": "https://localhost:8080/"
        },
        "id": "PU9M9yoZGVGb",
        "outputId": "ed365471-7158-4e89-88ce-4482bc0bcac3"
      },
      "source": [
        "type(Lables)"
      ],
      "execution_count": 18,
      "outputs": [
        {
          "output_type": "execute_result",
          "data": {
            "text/plain": [
              "dict"
            ]
          },
          "metadata": {
            "tags": []
          },
          "execution_count": 18
        }
      ]
    },
    {
      "cell_type": "code",
      "metadata": {
        "colab": {
          "base_uri": "https://localhost:8080/"
        },
        "id": "Hcb2FcgeGbFg",
        "outputId": "20f72da1-b4a2-41b3-8ab4-d72fe367e094"
      },
      "source": [
        "Lables.keys()\r\n",
        "labels_list = list(Lables.keys())\r\n",
        "labels_list"
      ],
      "execution_count": 19,
      "outputs": [
        {
          "output_type": "execute_result",
          "data": {
            "text/plain": [
              "['Apple___Apple_scab',\n",
              " 'Apple___Black_rot',\n",
              " 'Apple___Cedar_apple_rust',\n",
              " 'Apple___healthy',\n",
              " 'Blueberry___healthy',\n",
              " 'Cherry_(including_sour)___Powdery_mildew',\n",
              " 'Cherry_(including_sour)___healthy',\n",
              " 'Corn_(maize)___Cercospora_leaf_spot Gray_leaf_spot',\n",
              " 'Corn_(maize)___Common_rust',\n",
              " 'Corn_(maize)___Northern_Leaf_Blight',\n",
              " 'Corn_(maize)___healthy',\n",
              " 'Grape___Black_rot',\n",
              " 'Grape___Esca_(Black_Measles)',\n",
              " 'Grape___Leaf_blight_(Isariopsis_Leaf_Spot)',\n",
              " 'Grape___healthy',\n",
              " 'Orange___Haunglongbing_(Citrus_greening)',\n",
              " 'Peach___Bacterial_spot',\n",
              " 'Peach___healthy',\n",
              " 'Pepper__bell___Bacterial_spot',\n",
              " 'Pepper__bell___healthy',\n",
              " 'Potato___Early_blight',\n",
              " 'Potato___Late_blight',\n",
              " 'Potato___healthy',\n",
              " 'Raspberry___healthy',\n",
              " 'Soybean___healthy',\n",
              " 'Squash___Powdery_mildew',\n",
              " 'Strawberry___Leaf_scorch',\n",
              " 'Strawberry___healthy',\n",
              " 'Tomato___Bacterial_spot',\n",
              " 'Tomato___Early_blight',\n",
              " 'Tomato___Late_blight',\n",
              " 'Tomato___Leaf_Mold',\n",
              " 'Tomato___Septoria_leaf_spot',\n",
              " 'Tomato___Spider_mites Two-spotted_spider_mite',\n",
              " 'Tomato___Target_Spot',\n",
              " 'Tomato___Tomato_Yellow_Leaf_Curl_Virus',\n",
              " 'Tomato___Tomato_mosaic_virus',\n",
              " 'Tomato___healthy']"
            ]
          },
          "metadata": {
            "tags": []
          },
          "execution_count": 19
        }
      ]
    },
    {
      "cell_type": "code",
      "metadata": {
        "colab": {
          "base_uri": "https://localhost:8080/"
        },
        "id": "A00mVztkGc02",
        "outputId": "f319dfba-849b-43a3-d4df-6b55ceb1b6a4"
      },
      "source": [
        "details_list = []\r\n",
        "for i in labels_list:\r\n",
        "  details = i.split(\"___\")\r\n",
        "  details_list.append(details)\r\n",
        "print(details_list)"
      ],
      "execution_count": 20,
      "outputs": [
        {
          "output_type": "stream",
          "text": [
            "[['Apple', 'Apple_scab'], ['Apple', 'Black_rot'], ['Apple', 'Cedar_apple_rust'], ['Apple', 'healthy'], ['Blueberry', 'healthy'], ['Cherry_(including_sour)', 'Powdery_mildew'], ['Cherry_(including_sour)', 'healthy'], ['Corn_(maize)', 'Cercospora_leaf_spot Gray_leaf_spot'], ['Corn_(maize)', 'Common_rust'], ['Corn_(maize)', 'Northern_Leaf_Blight'], ['Corn_(maize)', 'healthy'], ['Grape', 'Black_rot'], ['Grape', 'Esca_(Black_Measles)'], ['Grape', 'Leaf_blight_(Isariopsis_Leaf_Spot)'], ['Grape', 'healthy'], ['Orange', 'Haunglongbing_(Citrus_greening)'], ['Peach', 'Bacterial_spot'], ['Peach', 'healthy'], ['Pepper__bell', 'Bacterial_spot'], ['Pepper__bell', 'healthy'], ['Potato', 'Early_blight'], ['Potato', 'Late_blight'], ['Potato', 'healthy'], ['Raspberry', 'healthy'], ['Soybean', 'healthy'], ['Squash', 'Powdery_mildew'], ['Strawberry', 'Leaf_scorch'], ['Strawberry', 'healthy'], ['Tomato', 'Bacterial_spot'], ['Tomato', 'Early_blight'], ['Tomato', 'Late_blight'], ['Tomato', 'Leaf_Mold'], ['Tomato', 'Septoria_leaf_spot'], ['Tomato', 'Spider_mites Two-spotted_spider_mite'], ['Tomato', 'Target_Spot'], ['Tomato', 'Tomato_Yellow_Leaf_Curl_Virus'], ['Tomato', 'Tomato_mosaic_virus'], ['Tomato', 'healthy']]\n"
          ],
          "name": "stdout"
        }
      ]
    },
    {
      "cell_type": "code",
      "metadata": {
        "colab": {
          "base_uri": "https://localhost:8080/"
        },
        "id": "APRyaQJYGfbD",
        "outputId": "1ac0c8a3-80b4-4fea-97d3-c2351f6729f2"
      },
      "source": [
        "print(details_list[0][1])"
      ],
      "execution_count": 21,
      "outputs": [
        {
          "output_type": "stream",
          "text": [
            "Apple_scab\n"
          ],
          "name": "stdout"
        }
      ]
    },
    {
      "cell_type": "code",
      "metadata": {
        "colab": {
          "base_uri": "https://localhost:8080/"
        },
        "id": "pZMeOXWEGhhY",
        "outputId": "60dd7824-c752-4da0-f1d7-e5c994d4b60e"
      },
      "source": [
        "copy_list = details_list.copy()\r\n",
        "print(copy_list)"
      ],
      "execution_count": 22,
      "outputs": [
        {
          "output_type": "stream",
          "text": [
            "[['Apple', 'Apple_scab'], ['Apple', 'Black_rot'], ['Apple', 'Cedar_apple_rust'], ['Apple', 'healthy'], ['Blueberry', 'healthy'], ['Cherry_(including_sour)', 'Powdery_mildew'], ['Cherry_(including_sour)', 'healthy'], ['Corn_(maize)', 'Cercospora_leaf_spot Gray_leaf_spot'], ['Corn_(maize)', 'Common_rust'], ['Corn_(maize)', 'Northern_Leaf_Blight'], ['Corn_(maize)', 'healthy'], ['Grape', 'Black_rot'], ['Grape', 'Esca_(Black_Measles)'], ['Grape', 'Leaf_blight_(Isariopsis_Leaf_Spot)'], ['Grape', 'healthy'], ['Orange', 'Haunglongbing_(Citrus_greening)'], ['Peach', 'Bacterial_spot'], ['Peach', 'healthy'], ['Pepper__bell', 'Bacterial_spot'], ['Pepper__bell', 'healthy'], ['Potato', 'Early_blight'], ['Potato', 'Late_blight'], ['Potato', 'healthy'], ['Raspberry', 'healthy'], ['Soybean', 'healthy'], ['Squash', 'Powdery_mildew'], ['Strawberry', 'Leaf_scorch'], ['Strawberry', 'healthy'], ['Tomato', 'Bacterial_spot'], ['Tomato', 'Early_blight'], ['Tomato', 'Late_blight'], ['Tomato', 'Leaf_Mold'], ['Tomato', 'Septoria_leaf_spot'], ['Tomato', 'Spider_mites Two-spotted_spider_mite'], ['Tomato', 'Target_Spot'], ['Tomato', 'Tomato_Yellow_Leaf_Curl_Virus'], ['Tomato', 'Tomato_mosaic_virus'], ['Tomato', 'healthy']]\n"
          ],
          "name": "stdout"
        }
      ]
    },
    {
      "cell_type": "code",
      "metadata": {
        "colab": {
          "base_uri": "https://localhost:8080/"
        },
        "id": "YC6Y-W8yGjQo",
        "outputId": "5e8ae964-2414-496c-9509-287254ac377e"
      },
      "source": [
        "base_model = keras.applications.MobileNet(weights=\"imagenet\",\r\n",
        "                                          input_shape=(224,224,3),\r\n",
        "                                          include_top=False,)"
      ],
      "execution_count": 23,
      "outputs": [
        {
          "output_type": "stream",
          "text": [
            "Downloading data from https://storage.googleapis.com/tensorflow/keras-applications/mobilenet/mobilenet_1_0_224_tf_no_top.h5\n",
            "17227776/17225924 [==============================] - 0s 0us/step\n"
          ],
          "name": "stdout"
        }
      ]
    },
    {
      "cell_type": "code",
      "metadata": {
        "colab": {
          "base_uri": "https://localhost:8080/"
        },
        "id": "YRm8pLi5Gl1b",
        "outputId": "e3f2bf20-c83d-4094-bef4-e60fdabb02c2"
      },
      "source": [
        "base_model.summary()"
      ],
      "execution_count": 24,
      "outputs": [
        {
          "output_type": "stream",
          "text": [
            "Model: \"mobilenet_1.00_224\"\n",
            "_________________________________________________________________\n",
            "Layer (type)                 Output Shape              Param #   \n",
            "=================================================================\n",
            "input_1 (InputLayer)         [(None, 224, 224, 3)]     0         \n",
            "_________________________________________________________________\n",
            "conv1 (Conv2D)               (None, 112, 112, 32)      864       \n",
            "_________________________________________________________________\n",
            "conv1_bn (BatchNormalization (None, 112, 112, 32)      128       \n",
            "_________________________________________________________________\n",
            "conv1_relu (ReLU)            (None, 112, 112, 32)      0         \n",
            "_________________________________________________________________\n",
            "conv_dw_1 (DepthwiseConv2D)  (None, 112, 112, 32)      288       \n",
            "_________________________________________________________________\n",
            "conv_dw_1_bn (BatchNormaliza (None, 112, 112, 32)      128       \n",
            "_________________________________________________________________\n",
            "conv_dw_1_relu (ReLU)        (None, 112, 112, 32)      0         \n",
            "_________________________________________________________________\n",
            "conv_pw_1 (Conv2D)           (None, 112, 112, 64)      2048      \n",
            "_________________________________________________________________\n",
            "conv_pw_1_bn (BatchNormaliza (None, 112, 112, 64)      256       \n",
            "_________________________________________________________________\n",
            "conv_pw_1_relu (ReLU)        (None, 112, 112, 64)      0         \n",
            "_________________________________________________________________\n",
            "conv_pad_2 (ZeroPadding2D)   (None, 113, 113, 64)      0         \n",
            "_________________________________________________________________\n",
            "conv_dw_2 (DepthwiseConv2D)  (None, 56, 56, 64)        576       \n",
            "_________________________________________________________________\n",
            "conv_dw_2_bn (BatchNormaliza (None, 56, 56, 64)        256       \n",
            "_________________________________________________________________\n",
            "conv_dw_2_relu (ReLU)        (None, 56, 56, 64)        0         \n",
            "_________________________________________________________________\n",
            "conv_pw_2 (Conv2D)           (None, 56, 56, 128)       8192      \n",
            "_________________________________________________________________\n",
            "conv_pw_2_bn (BatchNormaliza (None, 56, 56, 128)       512       \n",
            "_________________________________________________________________\n",
            "conv_pw_2_relu (ReLU)        (None, 56, 56, 128)       0         \n",
            "_________________________________________________________________\n",
            "conv_dw_3 (DepthwiseConv2D)  (None, 56, 56, 128)       1152      \n",
            "_________________________________________________________________\n",
            "conv_dw_3_bn (BatchNormaliza (None, 56, 56, 128)       512       \n",
            "_________________________________________________________________\n",
            "conv_dw_3_relu (ReLU)        (None, 56, 56, 128)       0         \n",
            "_________________________________________________________________\n",
            "conv_pw_3 (Conv2D)           (None, 56, 56, 128)       16384     \n",
            "_________________________________________________________________\n",
            "conv_pw_3_bn (BatchNormaliza (None, 56, 56, 128)       512       \n",
            "_________________________________________________________________\n",
            "conv_pw_3_relu (ReLU)        (None, 56, 56, 128)       0         \n",
            "_________________________________________________________________\n",
            "conv_pad_4 (ZeroPadding2D)   (None, 57, 57, 128)       0         \n",
            "_________________________________________________________________\n",
            "conv_dw_4 (DepthwiseConv2D)  (None, 28, 28, 128)       1152      \n",
            "_________________________________________________________________\n",
            "conv_dw_4_bn (BatchNormaliza (None, 28, 28, 128)       512       \n",
            "_________________________________________________________________\n",
            "conv_dw_4_relu (ReLU)        (None, 28, 28, 128)       0         \n",
            "_________________________________________________________________\n",
            "conv_pw_4 (Conv2D)           (None, 28, 28, 256)       32768     \n",
            "_________________________________________________________________\n",
            "conv_pw_4_bn (BatchNormaliza (None, 28, 28, 256)       1024      \n",
            "_________________________________________________________________\n",
            "conv_pw_4_relu (ReLU)        (None, 28, 28, 256)       0         \n",
            "_________________________________________________________________\n",
            "conv_dw_5 (DepthwiseConv2D)  (None, 28, 28, 256)       2304      \n",
            "_________________________________________________________________\n",
            "conv_dw_5_bn (BatchNormaliza (None, 28, 28, 256)       1024      \n",
            "_________________________________________________________________\n",
            "conv_dw_5_relu (ReLU)        (None, 28, 28, 256)       0         \n",
            "_________________________________________________________________\n",
            "conv_pw_5 (Conv2D)           (None, 28, 28, 256)       65536     \n",
            "_________________________________________________________________\n",
            "conv_pw_5_bn (BatchNormaliza (None, 28, 28, 256)       1024      \n",
            "_________________________________________________________________\n",
            "conv_pw_5_relu (ReLU)        (None, 28, 28, 256)       0         \n",
            "_________________________________________________________________\n",
            "conv_pad_6 (ZeroPadding2D)   (None, 29, 29, 256)       0         \n",
            "_________________________________________________________________\n",
            "conv_dw_6 (DepthwiseConv2D)  (None, 14, 14, 256)       2304      \n",
            "_________________________________________________________________\n",
            "conv_dw_6_bn (BatchNormaliza (None, 14, 14, 256)       1024      \n",
            "_________________________________________________________________\n",
            "conv_dw_6_relu (ReLU)        (None, 14, 14, 256)       0         \n",
            "_________________________________________________________________\n",
            "conv_pw_6 (Conv2D)           (None, 14, 14, 512)       131072    \n",
            "_________________________________________________________________\n",
            "conv_pw_6_bn (BatchNormaliza (None, 14, 14, 512)       2048      \n",
            "_________________________________________________________________\n",
            "conv_pw_6_relu (ReLU)        (None, 14, 14, 512)       0         \n",
            "_________________________________________________________________\n",
            "conv_dw_7 (DepthwiseConv2D)  (None, 14, 14, 512)       4608      \n",
            "_________________________________________________________________\n",
            "conv_dw_7_bn (BatchNormaliza (None, 14, 14, 512)       2048      \n",
            "_________________________________________________________________\n",
            "conv_dw_7_relu (ReLU)        (None, 14, 14, 512)       0         \n",
            "_________________________________________________________________\n",
            "conv_pw_7 (Conv2D)           (None, 14, 14, 512)       262144    \n",
            "_________________________________________________________________\n",
            "conv_pw_7_bn (BatchNormaliza (None, 14, 14, 512)       2048      \n",
            "_________________________________________________________________\n",
            "conv_pw_7_relu (ReLU)        (None, 14, 14, 512)       0         \n",
            "_________________________________________________________________\n",
            "conv_dw_8 (DepthwiseConv2D)  (None, 14, 14, 512)       4608      \n",
            "_________________________________________________________________\n",
            "conv_dw_8_bn (BatchNormaliza (None, 14, 14, 512)       2048      \n",
            "_________________________________________________________________\n",
            "conv_dw_8_relu (ReLU)        (None, 14, 14, 512)       0         \n",
            "_________________________________________________________________\n",
            "conv_pw_8 (Conv2D)           (None, 14, 14, 512)       262144    \n",
            "_________________________________________________________________\n",
            "conv_pw_8_bn (BatchNormaliza (None, 14, 14, 512)       2048      \n",
            "_________________________________________________________________\n",
            "conv_pw_8_relu (ReLU)        (None, 14, 14, 512)       0         \n",
            "_________________________________________________________________\n",
            "conv_dw_9 (DepthwiseConv2D)  (None, 14, 14, 512)       4608      \n",
            "_________________________________________________________________\n",
            "conv_dw_9_bn (BatchNormaliza (None, 14, 14, 512)       2048      \n",
            "_________________________________________________________________\n",
            "conv_dw_9_relu (ReLU)        (None, 14, 14, 512)       0         \n",
            "_________________________________________________________________\n",
            "conv_pw_9 (Conv2D)           (None, 14, 14, 512)       262144    \n",
            "_________________________________________________________________\n",
            "conv_pw_9_bn (BatchNormaliza (None, 14, 14, 512)       2048      \n",
            "_________________________________________________________________\n",
            "conv_pw_9_relu (ReLU)        (None, 14, 14, 512)       0         \n",
            "_________________________________________________________________\n",
            "conv_dw_10 (DepthwiseConv2D) (None, 14, 14, 512)       4608      \n",
            "_________________________________________________________________\n",
            "conv_dw_10_bn (BatchNormaliz (None, 14, 14, 512)       2048      \n",
            "_________________________________________________________________\n",
            "conv_dw_10_relu (ReLU)       (None, 14, 14, 512)       0         \n",
            "_________________________________________________________________\n",
            "conv_pw_10 (Conv2D)          (None, 14, 14, 512)       262144    \n",
            "_________________________________________________________________\n",
            "conv_pw_10_bn (BatchNormaliz (None, 14, 14, 512)       2048      \n",
            "_________________________________________________________________\n",
            "conv_pw_10_relu (ReLU)       (None, 14, 14, 512)       0         \n",
            "_________________________________________________________________\n",
            "conv_dw_11 (DepthwiseConv2D) (None, 14, 14, 512)       4608      \n",
            "_________________________________________________________________\n",
            "conv_dw_11_bn (BatchNormaliz (None, 14, 14, 512)       2048      \n",
            "_________________________________________________________________\n",
            "conv_dw_11_relu (ReLU)       (None, 14, 14, 512)       0         \n",
            "_________________________________________________________________\n",
            "conv_pw_11 (Conv2D)          (None, 14, 14, 512)       262144    \n",
            "_________________________________________________________________\n",
            "conv_pw_11_bn (BatchNormaliz (None, 14, 14, 512)       2048      \n",
            "_________________________________________________________________\n",
            "conv_pw_11_relu (ReLU)       (None, 14, 14, 512)       0         \n",
            "_________________________________________________________________\n",
            "conv_pad_12 (ZeroPadding2D)  (None, 15, 15, 512)       0         \n",
            "_________________________________________________________________\n",
            "conv_dw_12 (DepthwiseConv2D) (None, 7, 7, 512)         4608      \n",
            "_________________________________________________________________\n",
            "conv_dw_12_bn (BatchNormaliz (None, 7, 7, 512)         2048      \n",
            "_________________________________________________________________\n",
            "conv_dw_12_relu (ReLU)       (None, 7, 7, 512)         0         \n",
            "_________________________________________________________________\n",
            "conv_pw_12 (Conv2D)          (None, 7, 7, 1024)        524288    \n",
            "_________________________________________________________________\n",
            "conv_pw_12_bn (BatchNormaliz (None, 7, 7, 1024)        4096      \n",
            "_________________________________________________________________\n",
            "conv_pw_12_relu (ReLU)       (None, 7, 7, 1024)        0         \n",
            "_________________________________________________________________\n",
            "conv_dw_13 (DepthwiseConv2D) (None, 7, 7, 1024)        9216      \n",
            "_________________________________________________________________\n",
            "conv_dw_13_bn (BatchNormaliz (None, 7, 7, 1024)        4096      \n",
            "_________________________________________________________________\n",
            "conv_dw_13_relu (ReLU)       (None, 7, 7, 1024)        0         \n",
            "_________________________________________________________________\n",
            "conv_pw_13 (Conv2D)          (None, 7, 7, 1024)        1048576   \n",
            "_________________________________________________________________\n",
            "conv_pw_13_bn (BatchNormaliz (None, 7, 7, 1024)        4096      \n",
            "_________________________________________________________________\n",
            "conv_pw_13_relu (ReLU)       (None, 7, 7, 1024)        0         \n",
            "=================================================================\n",
            "Total params: 3,228,864\n",
            "Trainable params: 3,206,976\n",
            "Non-trainable params: 21,888\n",
            "_________________________________________________________________\n"
          ],
          "name": "stdout"
        }
      ]
    },
    {
      "cell_type": "code",
      "metadata": {
        "colab": {
          "base_uri": "https://localhost:8080/"
        },
        "id": "EmeKYRGjGoaN",
        "outputId": "6169861b-db56-45fe-9381-6fda06996748"
      },
      "source": [
        "# Freeze the base_model\r\n",
        "base_model.trainable = False\r\n",
        "\r\n",
        "# Create new model on top\r\n",
        "inputs = keras.Input(shape=(224, 224, 3))\r\n",
        "x = base_model(inputs, training=False)\r\n",
        "x = keras.layers.GlobalAveragePooling2D()(x)\r\n",
        "x = keras.layers.Dropout(0.2)(x)  \r\n",
        "outputs = keras.layers.Dense((38),activation=\"softmax\")(x)\r\n",
        "\r\n",
        "mobilenet_model = keras.Model(inputs, outputs, name='leaf_disease_model_mobilenet')\r\n",
        "mobilenet_model.summary()"
      ],
      "execution_count": 25,
      "outputs": [
        {
          "output_type": "stream",
          "text": [
            "Model: \"leaf_disease_model_mobilenet\"\n",
            "_________________________________________________________________\n",
            "Layer (type)                 Output Shape              Param #   \n",
            "=================================================================\n",
            "input_2 (InputLayer)         [(None, 224, 224, 3)]     0         \n",
            "_________________________________________________________________\n",
            "mobilenet_1.00_224 (Function (None, 7, 7, 1024)        3228864   \n",
            "_________________________________________________________________\n",
            "global_average_pooling2d (Gl (None, 1024)              0         \n",
            "_________________________________________________________________\n",
            "dropout (Dropout)            (None, 1024)              0         \n",
            "_________________________________________________________________\n",
            "dense (Dense)                (None, 38)                38950     \n",
            "=================================================================\n",
            "Total params: 3,267,814\n",
            "Trainable params: 38,950\n",
            "Non-trainable params: 3,228,864\n",
            "_________________________________________________________________\n"
          ],
          "name": "stdout"
        }
      ]
    },
    {
      "cell_type": "code",
      "metadata": {
        "id": "vPfcAPaHGsAm"
      },
      "source": [
        "mobilenet_model.compile(optimizer=keras.optimizers.Adam(),\r\n",
        "                        loss=keras.losses.CategoricalCrossentropy(from_logits=True),\r\n",
        "                        metrics=[keras.metrics.CategoricalAccuracy()])"
      ],
      "execution_count": 26,
      "outputs": []
    },
    {
      "cell_type": "code",
      "metadata": {
        "colab": {
          "base_uri": "https://localhost:8080/"
        },
        "id": "l3_ycJfNGuNO",
        "outputId": "ce2c489e-ae53-4134-b4e9-f1ddb150ea0d"
      },
      "source": [
        "#Add Callbacks, e.g. ModelCheckpoints, earlystopping, csvlogger.\r\n",
        "from keras.callbacks import EarlyStopping\r\n",
        "\r\n",
        "# EarlyStopping callback.\r\n",
        "early_stop = EarlyStopping(monitor='val_loss', \r\n",
        "                           patience=3, \r\n",
        "                           verbose=1)\r\n",
        "\r\n",
        "callbacks_list = [early_stop]\r\n",
        "\r\n",
        "history = mobilenet_model.fit(train_gen,\r\n",
        "                              steps_per_epoch=100,  \r\n",
        "                              validation_data=test_gen,\r\n",
        "                              epochs=20,\r\n",
        "                              validation_steps=100,\r\n",
        "                              callbacks=callbacks_list)"
      ],
      "execution_count": 28,
      "outputs": [
        {
          "output_type": "stream",
          "text": [
            "Epoch 1/20\n",
            "100/100 [==============================] - ETA: 0s - loss: 1.7191 - categorical_accuracy: 0.5344WARNING:tensorflow:Your input ran out of data; interrupting training. Make sure that your dataset or generator can generate at least `steps_per_epoch * epochs` batches (in this case, 100 batches). You may need to use the repeat() function when building your dataset.\n",
            "100/100 [==============================] - 334s 3s/step - loss: 1.7191 - categorical_accuracy: 0.5344 - val_loss: 1.5418 - val_categorical_accuracy: 0.5983\n",
            "Epoch 2/20\n",
            "100/100 [==============================] - ETA: 0s - loss: 1.3625 - categorical_accuracy: 0.6326WARNING:tensorflow:Your input ran out of data; interrupting training. Make sure that your dataset or generator can generate at least `steps_per_epoch * epochs` batches (in this case, 100 batches). You may need to use the repeat() function when building your dataset.\n",
            "100/100 [==============================] - 13s 133ms/step - loss: 1.3625 - categorical_accuracy: 0.6326 - val_loss: 1.3374 - val_categorical_accuracy: 0.6308\n",
            "Epoch 3/20\n",
            "100/100 [==============================] - ETA: 0s - loss: 1.1832 - categorical_accuracy: 0.6745WARNING:tensorflow:Your input ran out of data; interrupting training. Make sure that your dataset or generator can generate at least `steps_per_epoch * epochs` batches (in this case, 100 batches). You may need to use the repeat() function when building your dataset.\n",
            "100/100 [==============================] - 13s 135ms/step - loss: 1.1832 - categorical_accuracy: 0.6745 - val_loss: 1.2218 - val_categorical_accuracy: 0.6521\n",
            "Epoch 4/20\n",
            "100/100 [==============================] - ETA: 0s - loss: 1.0487 - categorical_accuracy: 0.7129WARNING:tensorflow:Your input ran out of data; interrupting training. Make sure that your dataset or generator can generate at least `steps_per_epoch * epochs` batches (in this case, 100 batches). You may need to use the repeat() function when building your dataset.\n",
            "100/100 [==============================] - 13s 134ms/step - loss: 1.0487 - categorical_accuracy: 0.7129 - val_loss: 1.1024 - val_categorical_accuracy: 0.6991\n",
            "Epoch 5/20\n",
            "100/100 [==============================] - ETA: 0s - loss: 0.9272 - categorical_accuracy: 0.7448WARNING:tensorflow:Your input ran out of data; interrupting training. Make sure that your dataset or generator can generate at least `steps_per_epoch * epochs` batches (in this case, 100 batches). You may need to use the repeat() function when building your dataset.\n",
            "100/100 [==============================] - 13s 135ms/step - loss: 0.9272 - categorical_accuracy: 0.7448 - val_loss: 1.0701 - val_categorical_accuracy: 0.6974\n",
            "Epoch 6/20\n",
            "100/100 [==============================] - ETA: 0s - loss: 0.8305 - categorical_accuracy: 0.7677WARNING:tensorflow:Your input ran out of data; interrupting training. Make sure that your dataset or generator can generate at least `steps_per_epoch * epochs` batches (in this case, 100 batches). You may need to use the repeat() function when building your dataset.\n",
            "100/100 [==============================] - 14s 139ms/step - loss: 0.8305 - categorical_accuracy: 0.7677 - val_loss: 1.0014 - val_categorical_accuracy: 0.7154\n",
            "Epoch 7/20\n",
            "100/100 [==============================] - ETA: 0s - loss: 0.7810 - categorical_accuracy: 0.7767WARNING:tensorflow:Your input ran out of data; interrupting training. Make sure that your dataset or generator can generate at least `steps_per_epoch * epochs` batches (in this case, 100 batches). You may need to use the repeat() function when building your dataset.\n",
            "100/100 [==============================] - 14s 135ms/step - loss: 0.7810 - categorical_accuracy: 0.7767 - val_loss: 0.9764 - val_categorical_accuracy: 0.7308\n",
            "Epoch 8/20\n",
            "100/100 [==============================] - ETA: 0s - loss: 0.7368 - categorical_accuracy: 0.8005WARNING:tensorflow:Your input ran out of data; interrupting training. Make sure that your dataset or generator can generate at least `steps_per_epoch * epochs` batches (in this case, 100 batches). You may need to use the repeat() function when building your dataset.\n",
            "100/100 [==============================] - 13s 134ms/step - loss: 0.7368 - categorical_accuracy: 0.8005 - val_loss: 0.9465 - val_categorical_accuracy: 0.7222\n",
            "Epoch 9/20\n",
            "100/100 [==============================] - ETA: 0s - loss: 0.6978 - categorical_accuracy: 0.8074WARNING:tensorflow:Your input ran out of data; interrupting training. Make sure that your dataset or generator can generate at least `steps_per_epoch * epochs` batches (in this case, 100 batches). You may need to use the repeat() function when building your dataset.\n",
            "100/100 [==============================] - 13s 134ms/step - loss: 0.6978 - categorical_accuracy: 0.8074 - val_loss: 0.9098 - val_categorical_accuracy: 0.7265\n",
            "Epoch 10/20\n",
            "100/100 [==============================] - ETA: 0s - loss: 0.6379 - categorical_accuracy: 0.8261WARNING:tensorflow:Your input ran out of data; interrupting training. Make sure that your dataset or generator can generate at least `steps_per_epoch * epochs` batches (in this case, 100 batches). You may need to use the repeat() function when building your dataset.\n",
            "100/100 [==============================] - 13s 133ms/step - loss: 0.6379 - categorical_accuracy: 0.8261 - val_loss: 0.8858 - val_categorical_accuracy: 0.7453\n",
            "Epoch 11/20\n",
            "100/100 [==============================] - ETA: 0s - loss: 0.6320 - categorical_accuracy: 0.8221WARNING:tensorflow:Your input ran out of data; interrupting training. Make sure that your dataset or generator can generate at least `steps_per_epoch * epochs` batches (in this case, 100 batches). You may need to use the repeat() function when building your dataset.\n",
            "100/100 [==============================] - 13s 135ms/step - loss: 0.6320 - categorical_accuracy: 0.8221 - val_loss: 0.8708 - val_categorical_accuracy: 0.7427\n",
            "Epoch 12/20\n",
            "100/100 [==============================] - ETA: 0s - loss: 0.5780 - categorical_accuracy: 0.8383WARNING:tensorflow:Your input ran out of data; interrupting training. Make sure that your dataset or generator can generate at least `steps_per_epoch * epochs` batches (in this case, 100 batches). You may need to use the repeat() function when building your dataset.\n",
            "100/100 [==============================] - 13s 134ms/step - loss: 0.5780 - categorical_accuracy: 0.8383 - val_loss: 0.8254 - val_categorical_accuracy: 0.7573\n",
            "Epoch 13/20\n",
            "100/100 [==============================] - ETA: 0s - loss: 0.5518 - categorical_accuracy: 0.8528WARNING:tensorflow:Your input ran out of data; interrupting training. Make sure that your dataset or generator can generate at least `steps_per_epoch * epochs` batches (in this case, 100 batches). You may need to use the repeat() function when building your dataset.\n",
            "100/100 [==============================] - 13s 134ms/step - loss: 0.5518 - categorical_accuracy: 0.8528 - val_loss: 0.8102 - val_categorical_accuracy: 0.7538\n",
            "Epoch 14/20\n",
            "100/100 [==============================] - ETA: 0s - loss: 0.5176 - categorical_accuracy: 0.8590WARNING:tensorflow:Your input ran out of data; interrupting training. Make sure that your dataset or generator can generate at least `steps_per_epoch * epochs` batches (in this case, 100 batches). You may need to use the repeat() function when building your dataset.\n",
            "100/100 [==============================] - 13s 134ms/step - loss: 0.5176 - categorical_accuracy: 0.8590 - val_loss: 0.8191 - val_categorical_accuracy: 0.7521\n",
            "Epoch 15/20\n",
            "100/100 [==============================] - ETA: 0s - loss: 0.4983 - categorical_accuracy: 0.8590WARNING:tensorflow:Your input ran out of data; interrupting training. Make sure that your dataset or generator can generate at least `steps_per_epoch * epochs` batches (in this case, 100 batches). You may need to use the repeat() function when building your dataset.\n",
            "100/100 [==============================] - 13s 133ms/step - loss: 0.4983 - categorical_accuracy: 0.8590 - val_loss: 0.7965 - val_categorical_accuracy: 0.7641\n",
            "Epoch 16/20\n",
            "100/100 [==============================] - ETA: 0s - loss: 0.4860 - categorical_accuracy: 0.8712WARNING:tensorflow:Your input ran out of data; interrupting training. Make sure that your dataset or generator can generate at least `steps_per_epoch * epochs` batches (in this case, 100 batches). You may need to use the repeat() function when building your dataset.\n",
            "100/100 [==============================] - 14s 137ms/step - loss: 0.4860 - categorical_accuracy: 0.8712 - val_loss: 0.7758 - val_categorical_accuracy: 0.7658\n",
            "Epoch 17/20\n",
            "100/100 [==============================] - ETA: 0s - loss: 0.4732 - categorical_accuracy: 0.8740WARNING:tensorflow:Your input ran out of data; interrupting training. Make sure that your dataset or generator can generate at least `steps_per_epoch * epochs` batches (in this case, 100 batches). You may need to use the repeat() function when building your dataset.\n",
            "100/100 [==============================] - 14s 135ms/step - loss: 0.4732 - categorical_accuracy: 0.8740 - val_loss: 0.7747 - val_categorical_accuracy: 0.7590\n",
            "Epoch 18/20\n",
            "100/100 [==============================] - ETA: 0s - loss: 0.4553 - categorical_accuracy: 0.8752WARNING:tensorflow:Your input ran out of data; interrupting training. Make sure that your dataset or generator can generate at least `steps_per_epoch * epochs` batches (in this case, 100 batches). You may need to use the repeat() function when building your dataset.\n",
            "100/100 [==============================] - 13s 133ms/step - loss: 0.4553 - categorical_accuracy: 0.8752 - val_loss: 0.7520 - val_categorical_accuracy: 0.7752\n",
            "Epoch 19/20\n",
            "100/100 [==============================] - ETA: 0s - loss: 0.4207 - categorical_accuracy: 0.8924WARNING:tensorflow:Your input ran out of data; interrupting training. Make sure that your dataset or generator can generate at least `steps_per_epoch * epochs` batches (in this case, 100 batches). You may need to use the repeat() function when building your dataset.\n",
            "100/100 [==============================] - 13s 134ms/step - loss: 0.4207 - categorical_accuracy: 0.8924 - val_loss: 0.7526 - val_categorical_accuracy: 0.7667\n",
            "Epoch 20/20\n",
            "100/100 [==============================] - ETA: 0s - loss: 0.4165 - categorical_accuracy: 0.8906WARNING:tensorflow:Your input ran out of data; interrupting training. Make sure that your dataset or generator can generate at least `steps_per_epoch * epochs` batches (in this case, 100 batches). You may need to use the repeat() function when building your dataset.\n",
            "100/100 [==============================] - 13s 134ms/step - loss: 0.4165 - categorical_accuracy: 0.8906 - val_loss: 0.7360 - val_categorical_accuracy: 0.7795\n"
          ],
          "name": "stdout"
        }
      ]
    },
    {
      "cell_type": "code",
      "metadata": {
        "colab": {
          "base_uri": "https://localhost:8080/"
        },
        "id": "rZ52K17oGx00",
        "outputId": "dee2aaa3-bc2c-4882-fa56-ac764804688e"
      },
      "source": [
        "mobilenet_model.evaluate(test_gen)"
      ],
      "execution_count": 29,
      "outputs": [
        {
          "output_type": "stream",
          "text": [
            "37/37 [==============================] - 4s 96ms/step - loss: 0.7360 - categorical_accuracy: 0.7795\n"
          ],
          "name": "stdout"
        },
        {
          "output_type": "execute_result",
          "data": {
            "text/plain": [
              "[0.7359914183616638, 0.7794871926307678]"
            ]
          },
          "metadata": {
            "tags": []
          },
          "execution_count": 29
        }
      ]
    },
    {
      "cell_type": "code",
      "metadata": {
        "colab": {
          "base_uri": "https://localhost:8080/",
          "height": 458
        },
        "id": "X_OIfiwTG0NR",
        "outputId": "49badaea-9783-4edd-bdee-b3663599d127"
      },
      "source": [
        "# Learning Curves.\r\n",
        "# Plot Loss vs Accuracy graphs.\r\n",
        "\r\n",
        "plt.figure(figsize=(18,7))\r\n",
        "plt.subplot(1,2,1)\r\n",
        "plt.plot(history.history['loss'], label = 'Training Loss')\r\n",
        "plt.plot(history.history['val_loss'], label = 'Validation Loss')\r\n",
        "plt.grid(False)\r\n",
        "plt.xlabel('Epochs')\r\n",
        "plt.ylabel('Loss Magnitude')\r\n",
        "plt.title('Training Loss')\r\n",
        "plt.legend()\r\n",
        "\r\n",
        "plt.subplot(1,2,2)\r\n",
        "plt.plot(history.history['categorical_accuracy'], label = 'Training Accuracy')\r\n",
        "plt.plot(history.history['val_categorical_accuracy'], label = 'validation Accuracy')\r\n",
        "plt.grid(False)\r\n",
        "plt.xlabel('Epochs')\r\n",
        "plt.ylabel('Loss Magnitude')\r\n",
        "plt.title('Training Accuracy')\r\n",
        "plt.legend(loc='lower right')\r\n",
        "plt.show()"
      ],
      "execution_count": 30,
      "outputs": [
        {
          "output_type": "display_data",
          "data": {
            "image/png": "[encoded data removed]",
            "text/plain": [
              "<Figure size 1296x504 with 2 Axes>"
            ]
          },
          "metadata": {
            "tags": [],
            "needs_background": "light"
          }
        }
      ]
    },
    {
      "cell_type": "code",
      "metadata": {
        "colab": {
          "base_uri": "https://localhost:8080/",
          "height": 301
        },
        "id": "F8DBgvg7G0Y7",
        "outputId": "e0aa0ab6-4b4a-4b8c-9192-4c00c10e0c2a"
      },
      "source": [
        "\r\n",
        "x, y = next(test_gen)\r\n",
        "image = x[0, :, :, :]\r\n",
        "true_index = np.argmax(y[0])\r\n",
        "plt.imshow(image)\r\n",
        "plt.axis('off')\r\n",
        "plt.show()\r\n",
        "\r\n",
        "# Expand the validation image to (1, 224, 224, 3) before predicting the label\r\n",
        "prediction_scores = mobilenet_model.predict(np.expand_dims(image, axis=0))\r\n",
        "predicted_index = np.argmax(prediction_scores)\r\n",
        "print(\"True label: \" + labels_list[true_index])\r\n",
        "print(\"Predicted label: \" + labels_list[predicted_index])"
      ],
      "execution_count": 41,
      "outputs": [
        {
          "output_type": "stream",
          "text": [
            "Clipping input data to the valid range for imshow with RGB data ([0..1] for floats or [0..255] for integers).\n"
          ],
          "name": "stderr"
        },
        {
          "output_type": "display_data",
          "data": {
            "image/png": "[encoded data removed]",
            "text/plain": [
              "<Figure size 432x288 with 1 Axes>"
            ]
          },
          "metadata": {
            "tags": [],
            "needs_background": "light"
          }
        },
        {
          "output_type": "stream",
          "text": [
            "True label: Raspberry___healthy\n",
            "Predicted label: Raspberry___healthy\n"
          ],
          "name": "stdout"
        }
      ]
    },
    {
      "cell_type": "code",
      "metadata": {
        "colab": {
          "base_uri": "https://localhost:8080/"
        },
        "id": "09SY9ceKG7JP",
        "outputId": "d5220a5e-09a2-4a15-e5f3-72013d4ef96f"
      },
      "source": [
        "!pip install tensorflowjs"
      ],
      "execution_count": 31,
      "outputs": [
        {
          "output_type": "stream",
          "text": [
            "Collecting tensorflowjs\n",
            "\u001b[?25l  Downloading https://files.pythonhosted.org/packages/f9/42/184dd8f0c2b4dd375e504cf9c7b305531760efeccd9a606401d27505669e/tensorflowjs-3.0.0-py3-none-any.whl (63kB)\n",
            "\r\u001b[K     |█████▏                          | 10kB 21.7MB/s eta 0:00:01\r\u001b[K     |██████████▍                     | 20kB 16.6MB/s eta 0:00:01\r\u001b[K     |███████████████▌                | 30kB 14.1MB/s eta 0:00:01\r\u001b[K     |████████████████████▊           | 40kB 13.1MB/s eta 0:00:01\r\u001b[K     |█████████████████████████▉      | 51kB 8.7MB/s eta 0:00:01\r\u001b[K     |███████████████████████████████ | 61kB 8.2MB/s eta 0:00:01\r\u001b[K     |████████████████████████████████| 71kB 5.5MB/s \n",
            "\u001b[?25hRequirement already satisfied: tensorflow<3,>=2.1.0 in /usr/local/lib/python3.6/dist-packages (from tensorflowjs) (2.4.1)\n",
            "Requirement already satisfied: six<2,>=1.12.0 in /usr/local/lib/python3.6/dist-packages (from tensorflowjs) (1.15.0)\n",
            "Collecting tensorflow-hub<0.10,>=0.7.0\n",
            "\u001b[?25l  Downloading https://files.pythonhosted.org/packages/ac/83/a7df82744a794107641dad1decaad017d82e25f0e1f761ac9204829eef96/tensorflow_hub-0.9.0-py2.py3-none-any.whl (103kB)\n",
            "\u001b[K     |████████████████████████████████| 112kB 11.5MB/s \n",
            "\u001b[?25hRequirement already satisfied: h5py<3,>=2.8.0 in /usr/local/lib/python3.6/dist-packages (from tensorflowjs) (2.10.0)\n",
            "Requirement already satisfied: opt-einsum~=3.3.0 in /usr/local/lib/python3.6/dist-packages (from tensorflow<3,>=2.1.0->tensorflowjs) (3.3.0)\n",
            "Requirement already satisfied: flatbuffers~=1.12.0 in /usr/local/lib/python3.6/dist-packages (from tensorflow<3,>=2.1.0->tensorflowjs) (1.12)\n",
            "Requirement already satisfied: wrapt~=1.12.1 in /usr/local/lib/python3.6/dist-packages (from tensorflow<3,>=2.1.0->tensorflowjs) (1.12.1)\n",
            "Requirement already satisfied: protobuf>=3.9.2 in /usr/local/lib/python3.6/dist-packages (from tensorflow<3,>=2.1.0->tensorflowjs) (3.12.4)\n",
            "Requirement already satisfied: grpcio~=1.32.0 in /usr/local/lib/python3.6/dist-packages (from tensorflow<3,>=2.1.0->tensorflowjs) (1.32.0)\n",
            "Requirement already satisfied: termcolor~=1.1.0 in /usr/local/lib/python3.6/dist-packages (from tensorflow<3,>=2.1.0->tensorflowjs) (1.1.0)\n",
            "Requirement already satisfied: absl-py~=0.10 in /usr/local/lib/python3.6/dist-packages (from tensorflow<3,>=2.1.0->tensorflowjs) (0.10.0)\n",
            "Requirement already satisfied: keras-preprocessing~=1.1.2 in /usr/local/lib/python3.6/dist-packages (from tensorflow<3,>=2.1.0->tensorflowjs) (1.1.2)\n",
            "Requirement already satisfied: astunparse~=1.6.3 in /usr/local/lib/python3.6/dist-packages (from tensorflow<3,>=2.1.0->tensorflowjs) (1.6.3)\n",
            "Requirement already satisfied: tensorboard~=2.4 in /usr/local/lib/python3.6/dist-packages (from tensorflow<3,>=2.1.0->tensorflowjs) (2.4.1)\n",
            "Requirement already satisfied: tensorflow-estimator<2.5.0,>=2.4.0 in /usr/local/lib/python3.6/dist-packages (from tensorflow<3,>=2.1.0->tensorflowjs) (2.4.0)\n",
            "Requirement already satisfied: google-pasta~=0.2 in /usr/local/lib/python3.6/dist-packages (from tensorflow<3,>=2.1.0->tensorflowjs) (0.2.0)\n",
            "Requirement already satisfied: numpy~=1.19.2 in /usr/local/lib/python3.6/dist-packages (from tensorflow<3,>=2.1.0->tensorflowjs) (1.19.5)\n",
            "Requirement already satisfied: wheel~=0.35 in /usr/local/lib/python3.6/dist-packages (from tensorflow<3,>=2.1.0->tensorflowjs) (0.36.2)\n",
            "Requirement already satisfied: typing-extensions~=3.7.4 in /usr/local/lib/python3.6/dist-packages (from tensorflow<3,>=2.1.0->tensorflowjs) (3.7.4.3)\n",
            "Requirement already satisfied: gast==0.3.3 in /usr/local/lib/python3.6/dist-packages (from tensorflow<3,>=2.1.0->tensorflowjs) (0.3.3)\n",
            "Requirement already satisfied: setuptools in /usr/local/lib/python3.6/dist-packages (from protobuf>=3.9.2->tensorflow<3,>=2.1.0->tensorflowjs) (51.3.3)\n",
            "Requirement already satisfied: requests<3,>=2.21.0 in /usr/local/lib/python3.6/dist-packages (from tensorboard~=2.4->tensorflow<3,>=2.1.0->tensorflowjs) (2.23.0)\n",
            "Requirement already satisfied: werkzeug>=0.11.15 in /usr/local/lib/python3.6/dist-packages (from tensorboard~=2.4->tensorflow<3,>=2.1.0->tensorflowjs) (1.0.1)\n",
            "Requirement already satisfied: markdown>=2.6.8 in /usr/local/lib/python3.6/dist-packages (from tensorboard~=2.4->tensorflow<3,>=2.1.0->tensorflowjs) (3.3.3)\n",
            "Requirement already satisfied: google-auth-oauthlib<0.5,>=0.4.1 in /usr/local/lib/python3.6/dist-packages (from tensorboard~=2.4->tensorflow<3,>=2.1.0->tensorflowjs) (0.4.2)\n",
            "Requirement already satisfied: google-auth<2,>=1.6.3 in /usr/local/lib/python3.6/dist-packages (from tensorboard~=2.4->tensorflow<3,>=2.1.0->tensorflowjs) (1.17.2)\n",
            "Requirement already satisfied: tensorboard-plugin-wit>=1.6.0 in /usr/local/lib/python3.6/dist-packages (from tensorboard~=2.4->tensorflow<3,>=2.1.0->tensorflowjs) (1.8.0)\n",
            "Requirement already satisfied: certifi>=2017.4.17 in /usr/local/lib/python3.6/dist-packages (from requests<3,>=2.21.0->tensorboard~=2.4->tensorflow<3,>=2.1.0->tensorflowjs) (2020.12.5)\n",
            "Requirement already satisfied: urllib3!=1.25.0,!=1.25.1,<1.26,>=1.21.1 in /usr/local/lib/python3.6/dist-packages (from requests<3,>=2.21.0->tensorboard~=2.4->tensorflow<3,>=2.1.0->tensorflowjs) (1.24.3)\n",
            "Requirement already satisfied: idna<3,>=2.5 in /usr/local/lib/python3.6/dist-packages (from requests<3,>=2.21.0->tensorboard~=2.4->tensorflow<3,>=2.1.0->tensorflowjs) (2.10)\n",
            "Requirement already satisfied: chardet<4,>=3.0.2 in /usr/local/lib/python3.6/dist-packages (from requests<3,>=2.21.0->tensorboard~=2.4->tensorflow<3,>=2.1.0->tensorflowjs) (3.0.4)\n",
            "Requirement already satisfied: importlib-metadata; python_version < \"3.8\" in /usr/local/lib/python3.6/dist-packages (from markdown>=2.6.8->tensorboard~=2.4->tensorflow<3,>=2.1.0->tensorflowjs) (3.4.0)\n",
            "Requirement already satisfied: requests-oauthlib>=0.7.0 in /usr/local/lib/python3.6/dist-packages (from google-auth-oauthlib<0.5,>=0.4.1->tensorboard~=2.4->tensorflow<3,>=2.1.0->tensorflowjs) (1.3.0)\n",
            "Requirement already satisfied: pyasn1-modules>=0.2.1 in /usr/local/lib/python3.6/dist-packages (from google-auth<2,>=1.6.3->tensorboard~=2.4->tensorflow<3,>=2.1.0->tensorflowjs) (0.2.8)\n",
            "Requirement already satisfied: rsa<5,>=3.1.4; python_version >= \"3\" in /usr/local/lib/python3.6/dist-packages (from google-auth<2,>=1.6.3->tensorboard~=2.4->tensorflow<3,>=2.1.0->tensorflowjs) (4.7)\n",
            "Requirement already satisfied: cachetools<5.0,>=2.0.0 in /usr/local/lib/python3.6/dist-packages (from google-auth<2,>=1.6.3->tensorboard~=2.4->tensorflow<3,>=2.1.0->tensorflowjs) (4.2.1)\n",
            "Requirement already satisfied: zipp>=0.5 in /usr/local/lib/python3.6/dist-packages (from importlib-metadata; python_version < \"3.8\"->markdown>=2.6.8->tensorboard~=2.4->tensorflow<3,>=2.1.0->tensorflowjs) (3.4.0)\n",
            "Requirement already satisfied: oauthlib>=3.0.0 in /usr/local/lib/python3.6/dist-packages (from requests-oauthlib>=0.7.0->google-auth-oauthlib<0.5,>=0.4.1->tensorboard~=2.4->tensorflow<3,>=2.1.0->tensorflowjs) (3.1.0)\n",
            "Requirement already satisfied: pyasn1<0.5.0,>=0.4.6 in /usr/local/lib/python3.6/dist-packages (from pyasn1-modules>=0.2.1->google-auth<2,>=1.6.3->tensorboard~=2.4->tensorflow<3,>=2.1.0->tensorflowjs) (0.4.8)\n",
            "Installing collected packages: tensorflow-hub, tensorflowjs\n",
            "  Found existing installation: tensorflow-hub 0.11.0\n",
            "    Uninstalling tensorflow-hub-0.11.0:\n",
            "      Successfully uninstalled tensorflow-hub-0.11.0\n",
            "Successfully installed tensorflow-hub-0.9.0 tensorflowjs-3.0.0\n"
          ],
          "name": "stdout"
        }
      ]
    },
    {
      "cell_type": "code",
      "metadata": {
        "id": "YE6WFMh-G_Nc"
      },
      "source": [
        "import tensorflowjs as tfjs"
      ],
      "execution_count": 42,
      "outputs": []
    },
    {
      "cell_type": "code",
      "metadata": {
        "colab": {
          "base_uri": "https://localhost:8080/"
        },
        "id": "_B9PL5GqHCPb",
        "outputId": "4d48297d-e0d5-4056-f8f6-9fbb7c1c0499"
      },
      "source": [
        "tfjs.converters.save_keras_model(mobilenet_model, '/content/gdrive/MyDrive/Kaggle/Machine Learning Model')"
      ],
      "execution_count": 43,
      "outputs": [
        {
          "output_type": "stream",
          "text": [
            "/usr/local/lib/python3.6/dist-packages/tensorflowjs/converters/keras_h5_conversion.py:123: H5pyDeprecationWarning: The default file mode will change to 'r' (read-only) in h5py 3.0. To suppress this warning, pass the mode you need to h5py.File(), or set the global default h5.get_config().default_file_mode, or set the environment variable H5PY_DEFAULT_READONLY=1. Available modes are: 'r', 'r+', 'w', 'w-'/'x', 'a'. See the docs for details.\n",
            "  return h5py.File(h5file)\n"
          ],
          "name": "stderr"
        }
      ]
    }
  ]
}